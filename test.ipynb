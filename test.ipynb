{
 "cells": [
  {
   "cell_type": "code",
   "execution_count": 13,
   "metadata": {},
   "outputs": [
    {
     "name": "stdout",
     "output_type": "stream",
     "text": [
      "p00004 Simultaneous Equation\n",
      "p {'input': ['1 2 3 4 5 6\\n2 -1 -2 -1 -1 -5', '2 -1 -3 1 -1 -3\\n2 -1 -3 -9 9 27'], 'output': ['-1.000 2.000\\n1.000 4.000', '0.000 3.000\\n0.000 3.000']}\n",
      "h {'input': [], 'output': []}\n",
      "Write a program which solve a simultaneous equation:\n",
      "\n",
      "ax + by = c\n",
      "dx + ey = f\n",
      "\n",
      "The program should print x and y for given a, b, c, d, e and f (-1,000 ≤ a, b, c, d, e, f ≤ 1,000). You can suppose that given equation has a unique solution.\n",
      "\n",
      "\n",
      "\n",
      "Input\n",
      "\n",
      "The input consists of several data sets, 1 line for each data set. In a data set, there will be a, b, c, d, e, f separated by a single space. The input terminates with EOF.\n",
      "\n",
      "Output\n",
      "\n",
      "For each data set, print x and y separated by a single space. Print the solution to three places of decimals. Round off the solution to three decimal places.\n",
      "\n",
      "Examples\n",
      "\n",
      "Input\n",
      "\n",
      "1 2 3 4 5 6\n",
      "2 -1 -2 -1 -1 -5\n",
      "\n",
      "\n",
      "Output\n",
      "\n",
      "-1.000 2.000\n",
      "1.000 4.000\n",
      "\n",
      "\n",
      "Input\n",
      "\n",
      "2 -1 -3 1 -1 -3\n",
      "2 -1 -3 -9 9 27\n",
      "\n",
      "\n",
      "Output\n",
      "\n",
      "0.000 3.000\n",
      "0.000 3.000\n"
     ]
    }
   ],
   "source": [
    "import jsonlines\n",
    "import re\n",
    "\n",
    "set1 = set()\n",
    "target = 289\n",
    "\n",
    "with jsonlines.open('data/train_input_spec_sample2.jsonl') as f:\n",
    "    for idx, problem in enumerate(f):\n",
    "        if idx != target: continue\n",
    "        print(problem['name'])\n",
    "        print('p', problem['public_tests'])\n",
    "        print('h', problem['private_tests'])\n",
    "        \n",
    "        print(problem['description'])\n",
    "        \n",
    "        break\n",
    "        # set1.add(re.split(r'[. ]', problem['name'])[0])\n",
    "        # break"
   ]
  },
  {
   "cell_type": "code",
   "execution_count": 38,
   "metadata": {},
   "outputs": [
    {
     "name": "stdout",
     "output_type": "stream",
     "text": [
      "t and only line contains the word s, which Vasya typed. This word consisits of small Latin letters, its length is no less that 1 and no more than 100 letters.\n",
      "\n"
     ]
    }
   ],
   "source": [
    "import jsonlines\n",
    "import re\n",
    "\n",
    "set1 = set()\n",
    "target = 53\n",
    "\n",
    "with jsonlines.open('data/train_input_spec_sample2.jsonl') as f:\n",
    "    for idx, problem in enumerate(f):\n",
    "        if idx > target: break\n",
    "        if idx != target: continue\n",
    "        print(problem['input_spec'])"
   ]
  },
  {
   "cell_type": "code",
   "execution_count": 12,
   "metadata": {},
   "outputs": [],
   "source": [
    "import json\n",
    "with open('data/sample.json', 'w', encoding='utf-8') as f:\n",
    "    f.write(json.dumps(problem))"
   ]
  },
  {
   "cell_type": "code",
   "execution_count": 39,
   "metadata": {},
   "outputs": [],
   "source": [
    "import jsonlines\n",
    "with jsonlines.open('data/train_input_spec_sample2.jsonl') as f1:\n",
    "    with jsonlines.open('data/train_input_spec_sample3.jsonl') as f2:\n",
    "        for p1, p2 in zip(f1, f2):\n",
    "            if p1['name'] != p2['name']:\n",
    "                print(p1['name'], p2['name'])\n",
    "    \n"
   ]
  }
 ],
 "metadata": {
  "kernelspec": {
   "display_name": "dogyu",
   "language": "python",
   "name": "python3"
  },
  "language_info": {
   "codemirror_mode": {
    "name": "ipython",
    "version": 3
   },
   "file_extension": ".py",
   "mimetype": "text/x-python",
   "name": "python",
   "nbconvert_exporter": "python",
   "pygments_lexer": "ipython3",
   "version": "3.9.16"
  },
  "orig_nbformat": 4
 },
 "nbformat": 4,
 "nbformat_minor": 2
}
