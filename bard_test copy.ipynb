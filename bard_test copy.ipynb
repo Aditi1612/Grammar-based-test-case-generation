{
 "cells": [
  {
   "cell_type": "code",
   "execution_count": 11,
   "metadata": {},
   "outputs": [],
   "source": [
    "from bardapi import Bard\n",
    "import os\n",
    "os.environ['_BARD_API_KEY'] = 'WAivYf6P754r4d5sWsYCvGsGvyefj-8RXM1rNYVKMTT_tNV5Vt8dxN8wWhVxcDoJAYbGTw.'\n",
    "bard = Bard()\n",
    "# ans = bard.get_answer('bard에대해서 설명해줘')\n",
    "\n",
    "# print(ans.keys())"
   ]
  },
  {
   "cell_type": "code",
   "execution_count": 52,
   "metadata": {},
   "outputs": [],
   "source": [
    "import jsonlines\n",
    "\n",
    "names = []\n",
    "descriptions = []\n",
    "specs = []\n",
    "consts = []\n",
    "test_Cases = []\n",
    "\n",
    "with jsonlines.open('data/train_input_spec_sample2.jsonl') as f:\n",
    "    for idx, problem in enumerate(f):\n",
    "\n",
    "        if problem['name'][0] != 'p': continue\n",
    "        \n",
    "        names.append(problem['name'])\n",
    "        descriptions.append(problem['description'])\n",
    "        consts.append(problem['input_constraints'])\n",
    "        specs.append(problem['input_spec'])\n",
    "        test_Cases.append(problem['public_tests']['input'][0])\n",
    "        \n",
    "        if len(names) >= 4: break\n",
    "        \n"
   ]
  },
  {
   "cell_type": "code",
   "execution_count": 64,
   "metadata": {},
   "outputs": [],
   "source": [
    "prompt = ''\n",
    "prompts = []\n",
    "for idx, (spec, const, test_case) in enumerate(zip(specs, consts, test_Cases)):\n",
    "    prompt += '<input_spec>\\n'\n",
    "    prompt += spec\n",
    "    prompt += '\\n</input_spec>\\n'\n",
    "    prompt += '<constraints>\\n'\n",
    "    prompt += const\n",
    "    prompt += '\\n</constraints>\\n'\n",
    "    prompt += 'Make CFG to make test case reflective of constraints'\n",
    "    \n",
    "    prompts.append(prompt)"
   ]
  },
  {
   "cell_type": "code",
   "execution_count": 65,
   "metadata": {},
   "outputs": [],
   "source": [
    "with open('prompt.txt', 'w', encoding='utf-8') as f:\n",
    "    f.write(prompt)"
   ]
  },
  {
   "cell_type": "code",
   "execution_count": 67,
   "metadata": {},
   "outputs": [],
   "source": [
    "# description\n",
    "ans = []\n",
    "for prompt in prompts:\n",
    "    ans.append(bard.get_answer(prompt))\n"
   ]
  },
  {
   "cell_type": "code",
   "execution_count": 68,
   "metadata": {},
   "outputs": [
    {
     "name": "stdout",
     "output_type": "stream",
     "text": [
      "{'content': 'Sure, here is a CFG that can be used to generate test cases reflective of the constraints you mentioned:\\n\\n```\\nstart\\n  -> A B\\n\\nA\\n  -> integer\\n  -> decimal\\n\\nB\\n  -> decimal\\n\\ndecimal\\n  -> digit digit\\n  -> digit\\n\\ninteger\\n  -> digit digit digit digit digit digit digit digit\\n```\\n\\nThis CFG can be used to generate test cases by randomly generating values for the variables `A` and `B`. The values for `A` must be integers between 0 and 10^15, and the values for `B` must be decimal numbers between 0 and 9.99.\\n\\nHere are some examples of test cases that can be generated using this CFG:\\n\\n```\\nA B\\n1234567890 0.12\\n10000000000 0.00\\n0 0.99\\n```', 'conversation_id': 'c_eb02cefc595d0c73', 'response_id': 'r_16d5c9d46db9cce1', 'factualityQueries': [], 'textQuery': ['CFG', 1], 'choices': [{'id': 'rc_16d5c9d46db9c469', 'content': ['Sure, here is a CFG that can be used to generate test cases reflective of the constraints you mentioned:\\n\\n```\\nstart\\n  -> A B\\n\\nA\\n  -> integer\\n  -> decimal\\n\\nB\\n  -> decimal\\n\\ndecimal\\n  -> digit digit\\n  -> digit\\n\\ninteger\\n  -> digit digit digit digit digit digit digit digit\\n```\\n\\nThis CFG can be used to generate test cases by randomly generating values for the variables `A` and `B`. The values for `A` must be integers between 0 and 10^15, and the values for `B` must be decimal numbers between 0 and 9.99.\\n\\nHere are some examples of test cases that can be generated using this CFG:\\n\\n```\\nA B\\n1234567890 0.12\\n10000000000 0.00\\n0 0.99\\n```']}, {'id': 'rc_16d5c9d46db9c778', 'content': ['Here is a CFG to make test case reflective of constraints:\\n\\n```\\nstart\\n    a = int(input())\\n    b = float(input())\\n    assert 0 <= a <= 10**15\\n    assert 0 <= b < 10\\n    print(a, b)\\n```\\n\\nThis CFG will generate a test case that satisfies the constraints you mentioned.']}, {'id': 'rc_16d5c9d46db9ca87', 'content': ['Sure, here is a CFG that can be used to generate test cases reflective of the constraints you mentioned:\\n\\n```\\nstart\\n   -> A\\n   -> B\\n\\nA\\n   -> integer\\n   -> decimal\\n\\ndecimal\\n   -> digit\\n   -> digit decimal\\n\\ndigit\\n   -> 0\\n   -> 1\\n   -> 2\\n   -> 3\\n   -> 4\\n   -> 5\\n   -> 6\\n   -> 7\\n   -> 8\\n   -> 9\\n```\\n\\nThis CFG can be used to generate test cases by randomly generating values for the variables `A` and `B`. The values for `A` must be integers between 0 and 10^15, and the values for `B` must be numbers with two digits after the decimal point.\\n\\nHere is an example of a test case generated by this CFG:\\n\\n```\\nA = 1234567890\\nB = 0.12\\n```\\n\\nI hope this helps!']}]}\n",
      "['Sure, here is a CFG that can be used to generate test cases reflective of the constraints you mentioned:\\n\\n```\\nstart\\n  -> A B\\n\\nA\\n  -> integer\\n  -> decimal\\n\\nB\\n  -> decimal\\n\\ndecimal\\n  -> digit digit\\n  -> digit\\n\\ninteger\\n  -> digit digit digit digit digit digit digit digit\\n```\\n\\nThis CFG can be used to generate test cases by randomly generating values for the variables `A` and `B`. The values for `A` must be integers between 0 and 10^15, and the values for `B` must be decimal numbers between 0 and 9.99.\\n\\nHere are some examples of test cases that can be generated using this CFG:\\n\\n```\\nA B\\n1234567890 0.12\\n10000000000 0.00\\n0 0.99\\n```']\n",
      "['Here is a CFG to make test case reflective of constraints:\\n\\n```\\nstart\\n    a = int(input())\\n    b = float(input())\\n    assert 0 <= a <= 10**15\\n    assert 0 <= b < 10\\n    print(a, b)\\n```\\n\\nThis CFG will generate a test case that satisfies the constraints you mentioned.']\n",
      "['Sure, here is a CFG that can be used to generate test cases reflective of the constraints you mentioned:\\n\\n```\\nstart\\n   -> A\\n   -> B\\n\\nA\\n   -> integer\\n   -> decimal\\n\\ndecimal\\n   -> digit\\n   -> digit decimal\\n\\ndigit\\n   -> 0\\n   -> 1\\n   -> 2\\n   -> 3\\n   -> 4\\n   -> 5\\n   -> 6\\n   -> 7\\n   -> 8\\n   -> 9\\n```\\n\\nThis CFG can be used to generate test cases by randomly generating values for the variables `A` and `B`. The values for `A` must be integers between 0 and 10^15, and the values for `B` must be numbers with two digits after the decimal point.\\n\\nHere is an example of a test case generated by this CFG:\\n\\n```\\nA = 1234567890\\nB = 0.12\\n```\\n\\nI hope this helps!']\n",
      "{'content': 'Sure, here are the CFGs that can be used to generate test cases reflective of the constraints you mentioned:\\n\\n**Input format `A B`**\\n\\n```\\nstart\\n  -> A B\\n\\nA\\n  -> integer\\n  -> decimal\\n\\nB\\n  -> decimal\\n\\ndecimal\\n  -> digit digit\\n  -> digit\\n\\ninteger\\n  -> digit digit digit digit digit digit digit digit\\n```\\n\\n**Input format `N A_1 ... A_N`**\\n\\n```\\nstart\\n  -> N A_1 ... A_N\\n\\nN\\n  -> digit digit digit digit digit\\n\\nA_i\\n  -> integer\\n\\ninteger\\n  -> digit digit digit digit digit digit digit digit\\n```', 'conversation_id': 'c_eb02cefc595d0c73', 'response_id': 'r_70e73a7c5f6cd701', 'factualityQueries': [], 'textQuery': ['CFG for generating test cases', 1], 'choices': [{'id': 'rc_70e73a7c5f6cdff9', 'content': ['Sure, here are the CFGs that can be used to generate test cases reflective of the constraints you mentioned:\\n\\n**Input format `A B`**\\n\\n```\\nstart\\n  -> A B\\n\\nA\\n  -> integer\\n  -> decimal\\n\\nB\\n  -> decimal\\n\\ndecimal\\n  -> digit digit\\n  -> digit\\n\\ninteger\\n  -> digit digit digit digit digit digit digit digit\\n```\\n\\n**Input format `N A_1 ... A_N`**\\n\\n```\\nstart\\n  -> N A_1 ... A_N\\n\\nN\\n  -> digit digit digit digit digit\\n\\nA_i\\n  -> integer\\n\\ninteger\\n  -> digit digit digit digit digit digit digit digit\\n```']}, {'id': 'rc_70e73a7c5f6cd0da', 'content': ['Sure, here is a CFG that can be used to generate test cases reflective of the constraints you mentioned:\\n\\n```\\nstart\\n  -> N A_1 ... A_N\\n\\nN\\n  -> digit digit digit\\n\\nA_i\\n  -> digit digit digit digit digit digit digit digit\\n```\\n\\nThis CFG can be used to generate test cases by randomly generating values for the variable `N` and the variables `A_i`. The values for `N` must be integers between 2 and 10^5, and the values for `A_i` must be integers between 0 and 10^18.\\n\\nHere are some examples of test cases that can be generated using this CFG:\\n\\n```\\nN A_1 A_2 ... A_N\\n1 1 2 3 4 5\\n100000 100001 100002 ... 100009\\n```']}, {'id': 'rc_70e73a7c5f6cd1bb', 'content': ['Sure, here are the CFGs that can be used to generate test cases reflective of the constraints you mentioned:\\n\\n**Input format `A B`**\\n\\n```\\nstart\\n  -> A B\\n\\nA\\n  -> integer\\n  -> decimal\\n\\nB\\n  -> decimal\\n\\ndecimal\\n  -> digit digit\\n  -> digit\\n\\ninteger\\n  -> digit digit digit digit digit digit digit digit\\n```\\n\\n**Input format `N A_1 ... A_N`**\\n\\n```\\nstart\\n  -> N A_1 ... A_N\\n\\nN\\n  -> digit digit digit digit\\n\\nA_i\\n  -> integer\\n```\\n\\nThese CFGs can be used to generate test cases by randomly generating values for the variables `A`, `B`, and `N`. The values for `A` must be integers between 0 and 10^15, the values for `B` must be decimal numbers between 0 and 9.99, and the values for `N` must be integers between 2 and 10^5.\\n\\nHere are some examples of test cases that can be generated using these CFGs:\\n\\n**Input format `A B`**\\n\\n```\\nA B\\n1234567890 0.12\\n10000000000 0.00\\n0 0.99\\n```\\n\\n**Input format `N A_1 ... A_N`**\\n\\n```\\nN A_1 ... A_N\\n5 1 2 3 4 5\\n10 1 2 3 4 5 6 7 8 9 10\\n```']}]}\n",
      "['Sure, here are the CFGs that can be used to generate test cases reflective of the constraints you mentioned:\\n\\n**Input format `A B`**\\n\\n```\\nstart\\n  -> A B\\n\\nA\\n  -> integer\\n  -> decimal\\n\\nB\\n  -> decimal\\n\\ndecimal\\n  -> digit digit\\n  -> digit\\n\\ninteger\\n  -> digit digit digit digit digit digit digit digit\\n```\\n\\n**Input format `N A_1 ... A_N`**\\n\\n```\\nstart\\n  -> N A_1 ... A_N\\n\\nN\\n  -> digit digit digit digit digit\\n\\nA_i\\n  -> integer\\n\\ninteger\\n  -> digit digit digit digit digit digit digit digit\\n```']\n",
      "['Sure, here is a CFG that can be used to generate test cases reflective of the constraints you mentioned:\\n\\n```\\nstart\\n  -> N A_1 ... A_N\\n\\nN\\n  -> digit digit digit\\n\\nA_i\\n  -> digit digit digit digit digit digit digit digit\\n```\\n\\nThis CFG can be used to generate test cases by randomly generating values for the variable `N` and the variables `A_i`. The values for `N` must be integers between 2 and 10^5, and the values for `A_i` must be integers between 0 and 10^18.\\n\\nHere are some examples of test cases that can be generated using this CFG:\\n\\n```\\nN A_1 A_2 ... A_N\\n1 1 2 3 4 5\\n100000 100001 100002 ... 100009\\n```']\n",
      "['Sure, here are the CFGs that can be used to generate test cases reflective of the constraints you mentioned:\\n\\n**Input format `A B`**\\n\\n```\\nstart\\n  -> A B\\n\\nA\\n  -> integer\\n  -> decimal\\n\\nB\\n  -> decimal\\n\\ndecimal\\n  -> digit digit\\n  -> digit\\n\\ninteger\\n  -> digit digit digit digit digit digit digit digit\\n```\\n\\n**Input format `N A_1 ... A_N`**\\n\\n```\\nstart\\n  -> N A_1 ... A_N\\n\\nN\\n  -> digit digit digit digit\\n\\nA_i\\n  -> integer\\n```\\n\\nThese CFGs can be used to generate test cases by randomly generating values for the variables `A`, `B`, and `N`. The values for `A` must be integers between 0 and 10^15, the values for `B` must be decimal numbers between 0 and 9.99, and the values for `N` must be integers between 2 and 10^5.\\n\\nHere are some examples of test cases that can be generated using these CFGs:\\n\\n**Input format `A B`**\\n\\n```\\nA B\\n1234567890 0.12\\n10000000000 0.00\\n0 0.99\\n```\\n\\n**Input format `N A_1 ... A_N`**\\n\\n```\\nN A_1 ... A_N\\n5 1 2 3 4 5\\n10 1 2 3 4 5 6 7 8 9 10\\n```']\n",
      "{'content': 'Sure, here are the CFGs that can be used to generate test cases reflective of the constraints you mentioned:\\n\\n**Input format `A B`**\\n\\n```\\nstart\\n  -> A B\\n\\nA\\n  -> integer\\n  -> decimal\\n\\nB\\n  -> decimal\\n\\ndecimal\\n  -> digit digit\\n  -> digit\\n\\ninteger\\n  -> digit digit digit digit digit digit digit digit\\n```\\n\\n**Input format `N A_1 ... A_N`**\\n\\n```\\nstart\\n  -> N A_1 ... A_N\\n\\nN\\n  -> digit digit digit digit digit\\n\\nA_i\\n  -> integer\\n\\ninteger\\n  -> digit digit digit digit digit digit digit digit\\n```\\n\\n**Input format `N M s_1 c_1 \\\\vdots s_M c_M`**\\n\\n```\\nstart\\n  -> N M s_1 c_1 \\\\vdots s_M c_M\\n\\nN\\n  -> digit digit digit digit\\n\\nM\\n  -> digit digit digit\\n\\ns_i\\n  -> digit digit digit\\n\\nc_i\\n  -> digit\\n```\\n\\nI hope this helps!', 'conversation_id': 'c_eb02cefc595d0c73', 'response_id': 'r_133bd094c7b3c622', 'factualityQueries': [], 'textQuery': ['How do you write a test case for functional requirements?', 4], 'choices': [{'id': 'rc_133bd094c7b3c0d8', 'content': ['Sure, here are the CFGs that can be used to generate test cases reflective of the constraints you mentioned:\\n\\n**Input format `A B`**\\n\\n```\\nstart\\n  -> A B\\n\\nA\\n  -> integer\\n  -> decimal\\n\\nB\\n  -> decimal\\n\\ndecimal\\n  -> digit digit\\n  -> digit\\n\\ninteger\\n  -> digit digit digit digit digit digit digit digit\\n```\\n\\n**Input format `N A_1 ... A_N`**\\n\\n```\\nstart\\n  -> N A_1 ... A_N\\n\\nN\\n  -> digit digit digit digit digit\\n\\nA_i\\n  -> integer\\n\\ninteger\\n  -> digit digit digit digit digit digit digit digit\\n```\\n\\n**Input format `N M s_1 c_1 \\\\vdots s_M c_M`**\\n\\n```\\nstart\\n  -> N M s_1 c_1 \\\\vdots s_M c_M\\n\\nN\\n  -> digit digit digit digit\\n\\nM\\n  -> digit digit digit\\n\\ns_i\\n  -> digit digit digit\\n\\nc_i\\n  -> digit\\n```\\n\\nI hope this helps!']}, {'id': 'rc_133bd094c7b3cf0f', 'content': ['Sure, here are the CFGs that can be used to generate test cases reflective of the constraints you mentioned:\\n\\n**Input format `A B`**\\n\\n```\\nstart\\n  -> A B\\n\\nA\\n  -> integer\\n  -> decimal\\n\\nB\\n  -> decimal\\n\\ndecimal\\n  -> digit digit\\n  -> digit\\n\\ninteger\\n  -> digit digit digit digit digit digit digit digit\\n```\\n\\n**Input format `N A_1 ... A_N`**\\n\\n```\\nstart\\n  -> N A_1 ... A_N\\n\\nN\\n  -> digit digit digit digit digit\\n\\nA_i\\n  -> integer\\n\\ninteger\\n  -> digit digit digit digit digit digit digit digit\\n```\\n\\n**Input format `N M s_1 c_1 \\\\vdots s_M c_M`**\\n\\n```\\nstart\\n  -> N M s_1 c_1 \\\\vdots s_M c_M\\n\\nN\\n  -> digit digit digit digit\\n\\nM\\n  -> digit digit\\n\\ns_i\\n  -> digit digit\\n\\nc_i\\n  -> digit\\n```\\n\\nI hope this helps!']}, {'id': 'rc_133bd094c7b3cd46', 'content': ['Sure, here are the CFGs that can be used to generate test cases reflective of the constraints you mentioned:\\n\\n**Input format `A B`**\\n\\n```\\nstart\\n  -> A B\\n\\nA\\n  -> integer\\n  -> decimal\\n\\nB\\n  -> decimal\\n\\ndecimal\\n  -> digit digit\\n  -> digit\\n\\ninteger\\n  -> digit digit digit digit digit digit digit digit\\n```\\n\\n**Input format `N A_1 ... A_N`**\\n\\n```\\nstart\\n  -> N A_1 ... A_N\\n\\nN\\n  -> digit digit digit digit digit\\n\\nA_i\\n  -> integer\\n\\ninteger\\n  -> digit digit digit digit digit digit digit digit\\n```\\n\\n**Input format `N M s_1 c_1 \\\\vdots s_M c_M`**\\n\\n```\\nstart\\n  -> N M s_1 c_1 \\\\vdots s_M c_M\\n\\nN\\n  -> digit digit digit digit digit\\n\\nM\\n  -> digit digit digit digit\\n\\ns_i\\n  -> digit digit digit\\n\\nc_i\\n  -> digit\\n```']}]}\n",
      "['Sure, here are the CFGs that can be used to generate test cases reflective of the constraints you mentioned:\\n\\n**Input format `A B`**\\n\\n```\\nstart\\n  -> A B\\n\\nA\\n  -> integer\\n  -> decimal\\n\\nB\\n  -> decimal\\n\\ndecimal\\n  -> digit digit\\n  -> digit\\n\\ninteger\\n  -> digit digit digit digit digit digit digit digit\\n```\\n\\n**Input format `N A_1 ... A_N`**\\n\\n```\\nstart\\n  -> N A_1 ... A_N\\n\\nN\\n  -> digit digit digit digit digit\\n\\nA_i\\n  -> integer\\n\\ninteger\\n  -> digit digit digit digit digit digit digit digit\\n```\\n\\n**Input format `N M s_1 c_1 \\\\vdots s_M c_M`**\\n\\n```\\nstart\\n  -> N M s_1 c_1 \\\\vdots s_M c_M\\n\\nN\\n  -> digit digit digit digit\\n\\nM\\n  -> digit digit digit\\n\\ns_i\\n  -> digit digit digit\\n\\nc_i\\n  -> digit\\n```\\n\\nI hope this helps!']\n",
      "['Sure, here are the CFGs that can be used to generate test cases reflective of the constraints you mentioned:\\n\\n**Input format `A B`**\\n\\n```\\nstart\\n  -> A B\\n\\nA\\n  -> integer\\n  -> decimal\\n\\nB\\n  -> decimal\\n\\ndecimal\\n  -> digit digit\\n  -> digit\\n\\ninteger\\n  -> digit digit digit digit digit digit digit digit\\n```\\n\\n**Input format `N A_1 ... A_N`**\\n\\n```\\nstart\\n  -> N A_1 ... A_N\\n\\nN\\n  -> digit digit digit digit digit\\n\\nA_i\\n  -> integer\\n\\ninteger\\n  -> digit digit digit digit digit digit digit digit\\n```\\n\\n**Input format `N M s_1 c_1 \\\\vdots s_M c_M`**\\n\\n```\\nstart\\n  -> N M s_1 c_1 \\\\vdots s_M c_M\\n\\nN\\n  -> digit digit digit digit\\n\\nM\\n  -> digit digit\\n\\ns_i\\n  -> digit digit\\n\\nc_i\\n  -> digit\\n```\\n\\nI hope this helps!']\n",
      "['Sure, here are the CFGs that can be used to generate test cases reflective of the constraints you mentioned:\\n\\n**Input format `A B`**\\n\\n```\\nstart\\n  -> A B\\n\\nA\\n  -> integer\\n  -> decimal\\n\\nB\\n  -> decimal\\n\\ndecimal\\n  -> digit digit\\n  -> digit\\n\\ninteger\\n  -> digit digit digit digit digit digit digit digit\\n```\\n\\n**Input format `N A_1 ... A_N`**\\n\\n```\\nstart\\n  -> N A_1 ... A_N\\n\\nN\\n  -> digit digit digit digit digit\\n\\nA_i\\n  -> integer\\n\\ninteger\\n  -> digit digit digit digit digit digit digit digit\\n```\\n\\n**Input format `N M s_1 c_1 \\\\vdots s_M c_M`**\\n\\n```\\nstart\\n  -> N M s_1 c_1 \\\\vdots s_M c_M\\n\\nN\\n  -> digit digit digit digit digit\\n\\nM\\n  -> digit digit digit digit\\n\\ns_i\\n  -> digit digit digit\\n\\nc_i\\n  -> digit\\n```']\n",
      "{'content': 'Here are the CFGs for the given input specifications:\\n\\n**A B**\\n\\n```\\nS -> A B\\nA -> [0-9]+\\nB -> [0-9]+.[0-9]{2}\\n```\\n\\n**N A_1 ... A_N**\\n\\n```\\nS -> N A_1 ... A_N\\nN -> [1-9]+\\nA_i -> [0-9]+\\n```\\n\\n**N M s_1 c_1 ... s_M c_M**\\n\\n```\\nS -> N M s_1 c_1 ... s_M c_M\\nN -> [1-3]\\nM -> [0-5]\\ns_i -> [1-N]\\nc_i -> [0-9]\\n```\\n\\n**N M K A_1 A_2 ... A_N B_1 B_2 ... B_M**\\n\\n```\\nS -> N M K A_1 A_2 ... A_N B_1 B_2 ... B_M\\nN -> [1-200000]\\nM -> [1-200000]\\nK -> [1-1000000000]\\nA_i -> [1-1000000000]\\nB_i -> [1-1000000000]\\n```', 'conversation_id': 'c_eb02cefc595d0c73', 'response_id': 'r_33fd56a1cea07598', 'factualityQueries': [], 'textQuery': ['A B', 1], 'choices': [{'id': 'rc_33fd56a1cea07ff3', 'content': ['Here are the CFGs for the given input specifications:\\n\\n**A B**\\n\\n```\\nS -> A B\\nA -> [0-9]+\\nB -> [0-9]+.[0-9]{2}\\n```\\n\\n**N A_1 ... A_N**\\n\\n```\\nS -> N A_1 ... A_N\\nN -> [1-9]+\\nA_i -> [0-9]+\\n```\\n\\n**N M s_1 c_1 ... s_M c_M**\\n\\n```\\nS -> N M s_1 c_1 ... s_M c_M\\nN -> [1-3]\\nM -> [0-5]\\ns_i -> [1-N]\\nc_i -> [0-9]\\n```\\n\\n**N M K A_1 A_2 ... A_N B_1 B_2 ... B_M**\\n\\n```\\nS -> N M K A_1 A_2 ... A_N B_1 B_2 ... B_M\\nN -> [1-200000]\\nM -> [1-200000]\\nK -> [1-1000000000]\\nA_i -> [1-1000000000]\\nB_i -> [1-1000000000]\\n```']}, {'id': 'rc_33fd56a1cea079e6', 'content': ['Sure, here are the CFGs for each of the input specifications:\\n\\n**A B**\\n\\n```\\nstart\\n   -> A B\\n    -> A\\n    -> B\\n```\\n\\n**N A_1 ... A_N**\\n\\n```\\nstart\\n   -> N A_1 ... A_N\\n    -> N\\n    -> A_1 ... A_N\\n```\\n\\n**N M s_1 c_1 ... s_M c_M**\\n\\n```\\nstart\\n   -> N M s_1 c_1 ... s_M c_M\\n    -> N M\\n    -> s_1 c_1 ... s_M c_M\\n```\\n\\n**N M K A_1 A_2 ... A_N B_1 B_2 ... B_M**\\n\\n```\\nstart\\n   -> N M K A_1 A_2 ... A_N B_1 B_2 ... B_M\\n    -> N M K\\n    -> A_1 A_2 ... A_N\\n    -> B_1 B_2 ... B_M\\n```\\n\\nI hope this is helpful!']}, {'id': 'rc_33fd56a1cea073d9', 'content': ['Sure, here are the CFGs for each of the input specifications:\\n\\n**A B**\\n\\n```\\nstart\\n  -> A B\\n  -> A . B\\n  -> A . . B\\n  -> A . . . B\\n  -> A . . . . B\\n  -> A . . . . . B\\n  -> A . . . . . . B\\n  -> A . . . . . . . B\\n  -> A . . . . . . . . B\\n  -> A . . . . . . . . . B\\n```\\n\\n**N A_1 ... A_N**\\n\\n```\\nstart\\n  -> N A_1 ... A_N\\n  -> N A_1 ... A_N .\\n  -> N A_1 ... A_N . .\\n  -> N A_1 ... A_N . . .\\n  -> N A_1 ... A_N . . . .\\n  -> N A_1 ... A_N . . . . .\\n  -> N A_1 ... A_N . . . . . .\\n  -> N A_1 ... A_N . . . . . . .\\n  -> N A_1 ... A_N . . . . . . . .\\n  -> N A_1 ... A_N . . . . . . . . .\\n```\\n\\n**N M s_1 c_1 ... s_M c_M**\\n\\n```\\nstart\\n  -> N M s_1 c_1 ... s_M c_M\\n  -> N M s_1 c_1 ... s_M c_M .\\n  -> N M s_1 c_1 ... s_M c_M . .\\n  -> N M s_1 c_1 ... s_M c_M . . .\\n  -> N M s_1 c_1 ... s_M c_M . . . .\\n  -> N M s_1 c_1 ... s_M c_M . . . . .\\n  -> N M s_1 c_1 ... s_M c_M . . . . . .\\n  -> N M s_1 c_1 ... s_M c_M . . . . . . .\\n  -> N M s_1 c_1 ... s_M c_M . . . . . . . .\\n  -> N M s_1 c_1 ... s_M c_M . . . . . . . . .\\n```\\n\\n**N M K A_1 ... A_N B_1 ... B_M**\\n\\n```\\nstart\\n  -> N M K A_1 ... A_N B_1 ... B_M\\n  -> N M K A_1 ... A_N B_1 ... B_M .\\n  -> N M K A_1 ... A_N B_1 ... B_M . .\\n  -> N M K A_1 ... A_N B_1 ... B_M . . .\\n  -> N M K A_1 ... A_N B_1 ... B_M . . . .\\n  -> N M K A_1 ... A_N B_1 ... B_M . . . . .\\n  -> N M K A_1 ... A_N B_1 ... B_M . . . . . .\\n  -> N M K A_1 ... A_N B_1 ... B_M . . . . . . .\\n  -> N M K A_1 ... A_N B_1 ... B_M . . . . . . . .\\n ']}]}\n",
      "['Here are the CFGs for the given input specifications:\\n\\n**A B**\\n\\n```\\nS -> A B\\nA -> [0-9]+\\nB -> [0-9]+.[0-9]{2}\\n```\\n\\n**N A_1 ... A_N**\\n\\n```\\nS -> N A_1 ... A_N\\nN -> [1-9]+\\nA_i -> [0-9]+\\n```\\n\\n**N M s_1 c_1 ... s_M c_M**\\n\\n```\\nS -> N M s_1 c_1 ... s_M c_M\\nN -> [1-3]\\nM -> [0-5]\\ns_i -> [1-N]\\nc_i -> [0-9]\\n```\\n\\n**N M K A_1 A_2 ... A_N B_1 B_2 ... B_M**\\n\\n```\\nS -> N M K A_1 A_2 ... A_N B_1 B_2 ... B_M\\nN -> [1-200000]\\nM -> [1-200000]\\nK -> [1-1000000000]\\nA_i -> [1-1000000000]\\nB_i -> [1-1000000000]\\n```']\n",
      "['Sure, here are the CFGs for each of the input specifications:\\n\\n**A B**\\n\\n```\\nstart\\n   -> A B\\n    -> A\\n    -> B\\n```\\n\\n**N A_1 ... A_N**\\n\\n```\\nstart\\n   -> N A_1 ... A_N\\n    -> N\\n    -> A_1 ... A_N\\n```\\n\\n**N M s_1 c_1 ... s_M c_M**\\n\\n```\\nstart\\n   -> N M s_1 c_1 ... s_M c_M\\n    -> N M\\n    -> s_1 c_1 ... s_M c_M\\n```\\n\\n**N M K A_1 A_2 ... A_N B_1 B_2 ... B_M**\\n\\n```\\nstart\\n   -> N M K A_1 A_2 ... A_N B_1 B_2 ... B_M\\n    -> N M K\\n    -> A_1 A_2 ... A_N\\n    -> B_1 B_2 ... B_M\\n```\\n\\nI hope this is helpful!']\n",
      "['Sure, here are the CFGs for each of the input specifications:\\n\\n**A B**\\n\\n```\\nstart\\n  -> A B\\n  -> A . B\\n  -> A . . B\\n  -> A . . . B\\n  -> A . . . . B\\n  -> A . . . . . B\\n  -> A . . . . . . B\\n  -> A . . . . . . . B\\n  -> A . . . . . . . . B\\n  -> A . . . . . . . . . B\\n```\\n\\n**N A_1 ... A_N**\\n\\n```\\nstart\\n  -> N A_1 ... A_N\\n  -> N A_1 ... A_N .\\n  -> N A_1 ... A_N . .\\n  -> N A_1 ... A_N . . .\\n  -> N A_1 ... A_N . . . .\\n  -> N A_1 ... A_N . . . . .\\n  -> N A_1 ... A_N . . . . . .\\n  -> N A_1 ... A_N . . . . . . .\\n  -> N A_1 ... A_N . . . . . . . .\\n  -> N A_1 ... A_N . . . . . . . . .\\n```\\n\\n**N M s_1 c_1 ... s_M c_M**\\n\\n```\\nstart\\n  -> N M s_1 c_1 ... s_M c_M\\n  -> N M s_1 c_1 ... s_M c_M .\\n  -> N M s_1 c_1 ... s_M c_M . .\\n  -> N M s_1 c_1 ... s_M c_M . . .\\n  -> N M s_1 c_1 ... s_M c_M . . . .\\n  -> N M s_1 c_1 ... s_M c_M . . . . .\\n  -> N M s_1 c_1 ... s_M c_M . . . . . .\\n  -> N M s_1 c_1 ... s_M c_M . . . . . . .\\n  -> N M s_1 c_1 ... s_M c_M . . . . . . . .\\n  -> N M s_1 c_1 ... s_M c_M . . . . . . . . .\\n```\\n\\n**N M K A_1 ... A_N B_1 ... B_M**\\n\\n```\\nstart\\n  -> N M K A_1 ... A_N B_1 ... B_M\\n  -> N M K A_1 ... A_N B_1 ... B_M .\\n  -> N M K A_1 ... A_N B_1 ... B_M . .\\n  -> N M K A_1 ... A_N B_1 ... B_M . . .\\n  -> N M K A_1 ... A_N B_1 ... B_M . . . .\\n  -> N M K A_1 ... A_N B_1 ... B_M . . . . .\\n  -> N M K A_1 ... A_N B_1 ... B_M . . . . . .\\n  -> N M K A_1 ... A_N B_1 ... B_M . . . . . . .\\n  -> N M K A_1 ... A_N B_1 ... B_M . . . . . . . .\\n ']\n"
     ]
    }
   ],
   "source": [
    "with open('result_CFG.txt', 'w', encoding='utf-8') as f:\n",
    "    for answer in ans:\n",
    "        print(answer)\n",
    "        for content in answer['choices']:\n",
    "            # print(content)\n",
    "            print(content['content'])\n",
    "            f.write(content['content'][0])\n",
    "            f.write('\\n')"
   ]
  }
 ],
 "metadata": {
  "kernelspec": {
   "display_name": "dogyu",
   "language": "python",
   "name": "python3"
  },
  "language_info": {
   "codemirror_mode": {
    "name": "ipython",
    "version": 3
   },
   "file_extension": ".py",
   "mimetype": "text/x-python",
   "name": "python",
   "nbconvert_exporter": "python",
   "pygments_lexer": "ipython3",
   "version": "3.9.16"
  },
  "orig_nbformat": 4
 },
 "nbformat": 4,
 "nbformat_minor": 2
}
